{
 "cells": [
  {
   "cell_type": "code",
   "execution_count": 17,
   "id": "af529ce4",
   "metadata": {},
   "outputs": [
    {
     "name": "stdout",
     "output_type": "stream",
     "text": [
      "Viet ma chuong trinh\n"
     ]
    }
   ],
   "source": [
    "print(\"Viet ma chuong trinh\")"
   ]
  },
  {
   "cell_type": "code",
   "execution_count": 4,
   "id": "be134d90",
   "metadata": {},
   "outputs": [
    {
     "name": "stdout",
     "output_type": "stream",
     "text": [
      "Albert Einstein da tung noi: Mot nguoi khong bao gio mac sai lam khong bao gio thu bat ky dieu gi moi.\n"
     ]
    }
   ],
   "source": [
    "print(\"Albert Einstein da tung noi: Mot nguoi khong bao gio mac sai lam khong bao gio thu bat ky dieu gi moi.\")"
   ]
  },
  {
   "cell_type": "code",
   "execution_count": 6,
   "id": "d8c86448",
   "metadata": {},
   "outputs": [],
   "source": [
    "if 5<2:\n",
    "    print(\"Five is greater than two\")"
   ]
  },
  {
   "cell_type": "code",
   "execution_count": 7,
   "id": "b49e9af0",
   "metadata": {},
   "outputs": [
    {
     "name": "stdout",
     "output_type": "stream",
     "text": [
      "6\n",
      "Hello python\n"
     ]
    }
   ],
   "source": [
    "total = 1 + \\\n",
    "2 + \\\n",
    "3\n",
    "print(total); print(\"Hello python\")"
   ]
  },
  {
   "cell_type": "code",
   "execution_count": 8,
   "id": "6689dd08",
   "metadata": {},
   "outputs": [
    {
     "name": "stdout",
     "output_type": "stream",
     "text": [
      "True\n"
     ]
    }
   ],
   "source": [
    "if True:\n",
    "    print(\"True\")\n",
    "else:\n",
    "    print(\"False\")"
   ]
  },
  {
   "cell_type": "code",
   "execution_count": 9,
   "id": "4779ebf3",
   "metadata": {},
   "outputs": [
    {
     "name": "stdout",
     "output_type": "stream",
     "text": [
      "Hello, World!\n"
     ]
    }
   ],
   "source": [
    "#This is a comment\n",
    "print(\"Hello, World!\")"
   ]
  },
  {
   "cell_type": "code",
   "execution_count": null,
   "id": "a6a6ed73",
   "metadata": {},
   "outputs": [
    {
     "data": {
      "text/plain": [
       "9"
      ]
     },
     "execution_count": 2,
     "metadata": {},
     "output_type": "execute_result"
    }
   ],
   "source": [
    "import math_libs\n",
    "math_libs.add(4,5)"
   ]
  },
  {
   "cell_type": "code",
   "execution_count": 1,
   "id": "4e31437a",
   "metadata": {},
   "outputs": [
    {
     "name": "stdout",
     "output_type": "stream",
     "text": [
      "what is the meaning of Life, the Universe, and Everything?\n",
      "what is your quest?\n",
      "42\n",
      "To seek the holy grail.\n"
     ]
    }
   ],
   "source": [
    "import module1\n",
    "import module2\n",
    "print(module1.question)\n",
    "print(module2.question)\n",
    "print(module1.answer)\n",
    "print(module2.answer)"
   ]
  }
 ],
 "metadata": {
  "kernelspec": {
   "display_name": "Python 3",
   "language": "python",
   "name": "python3"
  },
  "language_info": {
   "codemirror_mode": {
    "name": "ipython",
    "version": 3
   },
   "file_extension": ".py",
   "mimetype": "text/x-python",
   "name": "python",
   "nbconvert_exporter": "python",
   "pygments_lexer": "ipython3",
   "version": "3.12.1"
  }
 },
 "nbformat": 4,
 "nbformat_minor": 5
}
