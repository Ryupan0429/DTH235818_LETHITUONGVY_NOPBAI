{
 "cells": [
  {
   "cell_type": "code",
   "execution_count": 20,
   "id": "f0603c35",
   "metadata": {},
   "outputs": [
    {
     "name": "stdout",
     "output_type": "stream",
     "text": [
      "Chu vi =  12.566370614359172\n",
      "Diện tích =  4.0\n"
     ]
    }
   ],
   "source": [
    "#Câu 1\n",
    "import math\n",
    "\n",
    "try: \n",
    "    r= float(input(\"Mời bạn nhập bán kính hình tròn: \"))\n",
    "    cv=2*math.pi*r\n",
    "    dt=r**2\n",
    "    print(\"Chu vi = \",cv)\n",
    "    print(\"Diện tích = \",dt)\n",
    "except:\n",
    "    print(\"Có lỗi xảy ra!\")"
   ]
  },
  {
   "cell_type": "code",
   "execution_count": 18,
   "id": "f5b928d5",
   "metadata": {},
   "outputs": [
    {
     "name": "stdout",
     "output_type": "stream",
     "text": [
      "3 : 11 : 40\n"
     ]
    }
   ],
   "source": [
    "#Câu 2\n",
    "t=int(input(\"Nhập số giây: \"))\n",
    "hour=(t//3600)%24\n",
    "minute=(t%3600)//60\n",
    "second=(t%3600)%60\n",
    "print(hour,\":\",minute,\":\",second)"
   ]
  },
  {
   "cell_type": "code",
   "execution_count": 19,
   "id": "f5c3a9cf",
   "metadata": {},
   "outputs": [
    {
     "name": "stdout",
     "output_type": "stream",
     "text": [
      "Điểm trung bình=  7.333333333333333\n",
      "Điểm làm tròn=  7.33\n"
     ]
    }
   ],
   "source": [
    "#Câu 3\n",
    "toan=float(input(\"Nhập điểm Toán: \"))\n",
    "ly=float(input(\"Nhập điểm Lý: \"))\n",
    "hoa=float(input(\"Nhập điểm Hóa: \"))\n",
    "dtb=(toan+ly+hoa)/3\n",
    "print(\"Điểm trung bình= \",dtb)\n",
    "print(\"Điểm làm tròn= \",round(dtb,2))"
   ]
  }
 ],
 "metadata": {
  "kernelspec": {
   "display_name": "Python 3",
   "language": "python",
   "name": "python3"
  },
  "language_info": {
   "codemirror_mode": {
    "name": "ipython",
    "version": 3
   },
   "file_extension": ".py",
   "mimetype": "text/x-python",
   "name": "python",
   "nbconvert_exporter": "python",
   "pygments_lexer": "ipython3",
   "version": "3.12.1"
  }
 },
 "nbformat": 4,
 "nbformat_minor": 5
}
