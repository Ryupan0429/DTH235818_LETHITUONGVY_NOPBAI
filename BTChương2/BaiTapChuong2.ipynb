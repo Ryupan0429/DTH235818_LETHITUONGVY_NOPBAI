{
 "cells": [
  {
   "cell_type": "code",
   "execution_count": null,
   "id": "f0603c35",
   "metadata": {},
   "outputs": [
    {
     "name": "stdout",
     "output_type": "stream",
     "text": [
      "Chu vi =  12.566370614359172\n",
      "Diện tích =  4.0\n"
     ]
    }
   ],
   "source": [
    "#Câu 1: Tính chu vi diện tích Hình tròn \n",
    "import math\n",
    "\n",
    "try: \n",
    "    r= float(input(\"Mời bạn nhập bán kính hình tròn: \"))\n",
    "    cv=2*math.pi*r\n",
    "    dt=r**2\n",
    "    print(\"Chu vi = \",cv)\n",
    "    print(\"Diện tích = \",dt)\n",
    "except:\n",
    "    print(\"Có lỗi xảy ra!\")"
   ]
  },
  {
   "cell_type": "code",
   "execution_count": null,
   "id": "f5b928d5",
   "metadata": {},
   "outputs": [
    {
     "name": "stdout",
     "output_type": "stream",
     "text": [
      "1 : 2 : 30 AM\n"
     ]
    }
   ],
   "source": [
    "#Câu 2: Tính giờ phút giây \n",
    "t=int(input(\"Nhập số giây: \"))\n",
    "hour=(t//3600)%24\n",
    "minute=(t%3600)//60\n",
    "second=(t%3600)%60\n",
    "if(hour>=12):\n",
    "    hour-=12\n",
    "    str=\"PM\"\n",
    "else : str=\"AM\"\n",
    "print(hour,\":\",minute,\":\",second,str)"
   ]
  },
  {
   "cell_type": "code",
   "execution_count": null,
   "id": "f5c3a9cf",
   "metadata": {},
   "outputs": [
    {
     "name": "stdout",
     "output_type": "stream",
     "text": [
      "Điểm trung bình=  7.333333333333333\n",
      "Điểm làm tròn=  7.33\n"
     ]
    }
   ],
   "source": [
    "#Câu 3: Tính điểm trung bình \n",
    "toan=float(input(\"Nhập điểm Toán: \"))\n",
    "ly=float(input(\"Nhập điểm Lý: \"))\n",
    "hoa=float(input(\"Nhập điểm Hóa: \"))\n",
    "dtb=(toan+ly+hoa)/3\n",
    "print(\"Điểm trung bình= \",dtb)\n",
    "print(\"Điểm làm tròn= \",round(dtb,2))"
   ]
  },
  {
   "cell_type": "code",
   "execution_count": null,
   "id": "18077919",
   "metadata": {},
   "outputs": [],
   "source": [
    "#Câu 4: Python hỗ trợ những kiểu dữ liệu cơ bản nào?\n",
    "\"\"\"\n",
    "Số nguyên (int)\n",
    "Số thực (float)\n",
    "Số phức (complex)\n",
    "Chuỗi (str)\n",
    "Danh sách (list)\n",
    "Bộ (tuple)\n",
    "Tập hợp (set, frozenset)\n",
    "Từ điển (dict)\n",
    "Boolean (bool: True/False)\n",
    "Kiểu None (NoneType)\n",
    "\"\"\""
   ]
  },
  {
   "cell_type": "code",
   "execution_count": null,
   "id": "794bb1d6",
   "metadata": {},
   "outputs": [],
   "source": [
    "#Câu 5: Trình bày các loại ghi chú trong Python. \n",
    "# Đây là ghi chú 1 dòng\n",
    "\"\"\"\n",
    "Đây là ghi chú nhiều dòng\n",
    "Có thể trải dài nhiều dòng\n",
    "\"\"\""
   ]
  },
  {
   "cell_type": "code",
   "execution_count": null,
   "id": "c219a503",
   "metadata": {},
   "outputs": [],
   "source": [
    "#Câu 6: Trình bày ý nghĩa toán tử /, //, %, **, and, or, is.\n",
    "\"\"\"\n",
    "/ : chia lấy kết quả thực (float division).\n",
    "// : chia lấy phần nguyên (floor division).\n",
    "% : chia lấy dư (modulo).\n",
    "** : lũy thừa.\n",
    "and : toán tử logic và.\n",
    "or : toán tử logic hoặc.\n",
    "is : so sánh đồng nhất (kiểm tra 2 biến có cùng tham chiếu đến 1 đối tượng trong bộ nhớ hay không).\n",
    "\"\"\""
   ]
  },
  {
   "cell_type": "code",
   "execution_count": 1,
   "id": "8b3a04ca",
   "metadata": {},
   "outputs": [],
   "source": [
    "#Câu 7: Trình bày một số cách nhập dữ liệu từ bàn phím.\n",
    "#Hàm input(): trả về chuỗi.\n",
    "name = input(\"Nhập tên: \")\n",
    "#Kết hợp với ép kiểu:\n",
    "age = int(input(\"Nhập tuổi: \"))\n",
    "#Dùng map() để nhập nhiều giá trị một lúc:\n",
    "x, y = map(int, input(\"Nhập 2 số: \").split())"
   ]
  },
  {
   "cell_type": "code",
   "execution_count": 2,
   "id": "92794621",
   "metadata": {},
   "outputs": [
    {
     "name": "stdout",
     "output_type": "stream",
     "text": [
      "Không thể chia cho 0\n"
     ]
    }
   ],
   "source": [
    "#Câu 8: Các loại lỗi khi lập trình và cách bắt lỗi trong Python\n",
    "\"\"\"Lỗi cú pháp (SyntaxError): viết sai quy tắc ngôn ngữ.\n",
    "\n",
    "Lỗi thời gian chạy (RuntimeError): xảy ra khi chương trình chạy (ví dụ: chia cho 0).\n",
    "\n",
    "Lỗi logic: chương trình chạy được nhưng cho kết quả sai.\n",
    "\"\"\"\n",
    "#Cách bắt lỗi: dùng khối try ... except.\n",
    "try:\n",
    "    x = int(input(\"Nhập số: \"))\n",
    "    print(10 / x)\n",
    "except ZeroDivisionError:\n",
    "    print(\"Không thể chia cho 0\")\n",
    "except ValueError:\n",
    "    print(\"Dữ liệu nhập vào không hợp lệ\")"
   ]
  },
  {
   "cell_type": "code",
   "execution_count": null,
   "id": "ac9aa378",
   "metadata": {},
   "outputs": [
    {
     "name": "stdout",
     "output_type": "stream",
     "text": [
      "(a)= -13\n",
      "(b)= 4\n",
      "(c)= 1.0\n",
      "(d)= 1\n",
      "(e)= -2.6\n",
      "(f)= -3\n",
      "(g)= 8.666666666666666\n",
      "(h)= 8\n",
      "(i)= 4.0\n",
      "(j)= 4\n",
      "(k)= -0.5\n",
      "(l)= -0.5\n",
      "(m)= 0.9\n",
      "(n)= 0.36363636363636365\n",
      "(o)= 6.833333333333333\n",
      "(p)= 2.1666666666666665\n",
      "(q)= 6.833333333333333\n",
      "(r)= 52.5\n"
     ]
    }
   ],
   "source": [
    "#Câu 9: Giải thích kết quả tính toán của các biểu thức\n",
    "#Thứ tự thực hiện (ưu tiên ngoặc > lũy thừa > nhân/chia > cộng/trừ)\n",
    "#phép toán trong cặp dấu \"()\" thực hiện trước\n",
    "\n",
    "#Cho các biến:\n",
    "i1 = 2 \n",
    "i2 = 5 \n",
    "i3 = -3 \n",
    "d1 = 2.0 \n",
    "d2 = 5.0 \n",
    "d3 = -0.5\n",
    "\n",
    "a= i1 + (i2 * i3) \n",
    "b= i1 * (i2 + i3) \n",
    "c= i1 / (i2 + i3) \n",
    "d= i1 // (i2 + i3) \n",
    "e= i1 / i2 + i3 \n",
    "f= i1 // i2 + i3 \n",
    "g= 3 + 4 + 5 / 3 \n",
    "h= 3 + 4 + 5 // 3 \n",
    "i= (3 + 4 + 5) / 3 \n",
    "j= (3 + 4 + 5) // 3\n",
    "k= d1 + (d2 * d3) \n",
    "l= d1 + d2 * d3 \n",
    "m= d1 / d2 - d3 \n",
    "n= d1 / (d2 - d3) \n",
    "o= d1 + d2 + d3 / 3 \n",
    "p= (d1 + d2 + d3) / 3 \n",
    "q= d1 + d2 + (d3 / 3) \n",
    "r= 3 * (d1 + d2) * (d1 - d3) \n",
    "\n",
    "print(\"(a)=\", a)\n",
    "print(\"(b)=\", b)\n",
    "print(\"(c)=\", c)\n",
    "print(\"(d)=\", d)\n",
    "print(\"(e)=\", e)\n",
    "print(\"(f)=\", f)\n",
    "print(\"(g)=\", g)\n",
    "print(\"(h)=\", h)\n",
    "print(\"(i)=\", i)\n",
    "print(\"(j)=\", j)\n",
    "print(\"(k)=\", k)\n",
    "print(\"(l)=\", l)\n",
    "print(\"(m)=\", m)\n",
    "print(\"(n)=\", n)\n",
    "print(\"(o)=\", o)\n",
    "print(\"(p)=\", p)\n",
    "print(\"(q)=\", q)\n",
    "print(\"(r)=\", r)"
   ]
  },
  {
   "cell_type": "code",
   "execution_count": null,
   "id": "fd110b37",
   "metadata": {},
   "outputs": [],
   "source": [
    "#Câu 10: Hãy viết ngắn gọn lại các lệnh dưới đây \n",
    "\"\"\"Các lệnh ban đầu:\n",
    "(a) x = x + 1 \n",
    "(b) x = x / 2 \n",
    "(c) x = x - 1 \n",
    "(d) x = x + y \n",
    "(e) x = x - (y + 7) \n",
    "(f) x = 2*x \n",
    "(g) number_of_closed_cases = number_of_closed_cases + 2*ncc \"\"\"\n",
    "\n",
    "#Viết ngắn lại:\n",
    "\"\"\"\n",
    "(a) x +=1\n",
    "(b) x /=2\n",
    "(c) x -=1\n",
    "(d) x +=y\n",
    "(e) x -=(y + 7) \n",
    "(f) x *=2\n",
    "(g) number_of_closed_cases += 2*ncc\n",
    "\"\"\"\n"
   ]
  }
 ],
 "metadata": {
  "kernelspec": {
   "display_name": "Python 3",
   "language": "python",
   "name": "python3"
  },
  "language_info": {
   "codemirror_mode": {
    "name": "ipython",
    "version": 3
   },
   "file_extension": ".py",
   "mimetype": "text/x-python",
   "name": "python",
   "nbconvert_exporter": "python",
   "pygments_lexer": "ipython3",
   "version": "3.12.1"
  }
 },
 "nbformat": 4,
 "nbformat_minor": 5
}
